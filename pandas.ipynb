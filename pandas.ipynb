{
  "nbformat": 4,
  "nbformat_minor": 0,
  "metadata": {
    "colab": {
      "name": "Untitled0.ipynb",
      "version": "0.3.2",
      "provenance": [],
      "include_colab_link": true
    },
    "kernelspec": {
      "name": "python3",
      "display_name": "Python 3"
    },
    "accelerator": "TPU"
  },
  "cells": [
    {
      "cell_type": "markdown",
      "metadata": {
        "id": "view-in-github",
        "colab_type": "text"
      },
      "source": [
        "<a href=\"https://colab.research.google.com/github/chintan992/chintan992.github.io/blob/master/pandas.ipynb\" target=\"_parent\"><img src=\"https://colab.research.google.com/assets/colab-badge.svg\" alt=\"Open In Colab\"/></a>"
      ]
    },
    {
      "metadata": {
        "id": "BYwAmcApzV7J",
        "colab_type": "code",
        "colab": {
          "base_uri": "https://localhost:8080/",
          "height": 34
        },
        "outputId": "fd2691c2-866e-4132-e493-bacdc4ec090c"
      },
      "cell_type": "code",
      "source": [
        "import pandas as pd\n",
        "import numpy as np\n",
        "file = \"IPL.xlsx\"\n",
        "df = pd.read_excel(file)\n",
        "ddf = df.groupby(\"Year\").count()\n",
        "n1= ddf[[\"Match_Number\"]]\n",
        "\n",
        "a1 = df[df[\"Winning_Team\"]==\"FirstBatting\"]\n",
        "a2 = a1.groupby(\"Year\").count()\n",
        "n2 = a2[\"Winning_Team\"]\n",
        "\n",
        "#a2.append(ddf[[\"Match_Number\"]])[[\"Winning_Team\"]]\n",
        "\n",
        "\n",
        "b1 = df[df[\"Winning_Team\"]==\"Chasing\"]\n",
        "b2 = b1.groupby(\"Year\").count()\n",
        "n3 = b2[\"Winning_Team\"]\n",
        "\n",
        "c1 = df[df[\"Winning_Team\"]==\"Match Tied\"]\n",
        "c2 = c1.groupby(\"Year\").count()\n",
        "n4 = c2[\"Winning_Team\"]\n",
        "\n",
        "new = pd.concat([n1,n2,n3,n4],axis=1)\n",
        "new.columns = [\"Total_Matches\",\"First_Team\",\"Chasing\",\"Tied\"]\n",
        "#print(new.fillna(0))\n",
        "\n",
        "d1 = df.groupby(\"Venue\").count().max()\n",
        "d2 = d1[\"Match_Number\"]\n",
        "d2"
      ],
      "execution_count": 50,
      "outputs": [
        {
          "output_type": "execute_result",
          "data": {
            "text/plain": [
              "62"
            ]
          },
          "metadata": {
            "tags": []
          },
          "execution_count": 50
        }
      ]
    },
    {
      "metadata": {
        "id": "QRHpT6YX-Ysl",
        "colab_type": "code",
        "colab": {}
      },
      "cell_type": "code",
      "source": [
        "o"
      ],
      "execution_count": 0,
      "outputs": []
    },
    {
      "metadata": {
        "id": "N68PpDAe-bMO",
        "colab_type": "text"
      },
      "cell_type": "markdown",
      "source": [
        ""
      ]
    }
  ]
}